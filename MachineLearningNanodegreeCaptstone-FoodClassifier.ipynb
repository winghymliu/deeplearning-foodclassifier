{
 "cells": [
  {
   "cell_type": "markdown",
   "metadata": {
    "deletable": true,
    "editable": true
   },
   "source": [
    "# Capstone Project - Food Classifier\n",
    "\n",
    "## Overview\n",
    "\n",
    "The aim of this Capstone Project is to use deep learning to classify images of food. The notebook will include all implementation stages of the project including, data processing, training and building the model and finally an analysis of the results. \n",
    "\n",
    "## Software Requirements\n",
    "\n",
    "The project requires an installation of Anaconda with Python 2. The main libraries use will be Keras with a Tensorflow backend, panda and numpy. \n",
    "\n",
    "## Data Processing\n",
    "\n",
    "The project uses the UECFOOD256 from an academic insitute in Japan, the dataset contains 31,651 images in 256 folders with each folder being a particular category of the food.\n",
    "\n",
    "### Image Resize\n",
    "\n",
    "The first step is to resize all the images in order to standardize the input dimensions for the convolutional neural network. "
   ]
  },
  {
   "cell_type": "code",
   "execution_count": 22,
   "metadata": {
    "collapsed": false,
    "deletable": true,
    "editable": true
   },
   "outputs": [],
   "source": [
    "from os import listdir\n",
    "import os.path\n",
    "import pandas as pd\n",
    "from sklearn.datasets import load_files    \n",
    "from sklearn.model_selection import train_test_split\n",
    "import numpy as np\n",
    "from shutil import copyfile\n",
    "\n",
    "raw_dataset = r'D:\\Workspace\\deeplearning-foodclassifier\\UECFOOD256'\n",
    "categories = r'D:\\Workspace\\deeplearning-foodclassifier\\labels.txt'     \n",
    "labels = pd.read_csv(categories, sep=\",\", header=0)\n",
    "#print(labels.iloc[0][\"name\"])"
   ]
  },
  {
   "cell_type": "code",
   "execution_count": 32,
   "metadata": {
    "collapsed": false,
    "deletable": true,
    "editable": true
   },
   "outputs": [
    {
     "name": "stdout",
     "output_type": "stream",
     "text": [
      "446\n",
      "446\n",
      "112\n",
      "112\n",
      "62\n",
      "62\n"
     ]
    }
   ],
   "source": [
    "total = 0\n",
    "\n",
    "def get_total_images_per_label(path):\n",
    "    for item in listdir(path):\n",
    "        image_folder = os.path.join(path, item)\n",
    "        if os.path.isdir(image_folder):        \n",
    "            images = [file for file in os.listdir(image_folder) if file.endswith('.jpg')]\n",
    "            print('Folder ' + item + ' has ' + str(len(images)) + ' images')\n",
    "            total = total + len(images)\n",
    "    print('total files ' + str(total))\n",
    "\n",
    "def train_validate_test_split(path, number_label):\n",
    "    image_folder = os.path.join(path, number_label)\n",
    "    files = [file for file in os.listdir(image_folder) if file.endswith('.jpg')]  \n",
    "\n",
    "    X = np.vstack(files)\n",
    "    y = np.vstack(['rice'] * len(files))\n",
    "\n",
    "    X_train, X_test, y_train, y_test = train_test_split(X, y, test_size=0.1, random_state=42)\n",
    "    X_train, X_val, y_train, y_val = train_test_split(X_train, y_train, test_size=0.2, random_state=1)\n",
    "        \n",
    "    return X_train, X_val, X_test, y_train,  y_val, y_test\n",
    "\n",
    "X_train, X_val, X_test, y_train,  y_val, y_test = train_validate_test_split(raw_dataset, '1')    \n",
    "\n",
    "print(str(len(X_train)))\n",
    "print(str(len(y_train)))\n",
    "print(str(len(X_val)) )\n",
    "print(str(len(y_val)) )\n",
    "print(str(len(X_test)))\n",
    "print(str(len(y_test)))\n",
    "\n",
    "images_folder = r'D:\\Workspace\\deeplearning-foodclassifier\\food-images'\n",
    "if not os.path.exists(images_folder):\n",
    "        os.mkdir(images_folder)\n",
    "\n",
    "def copy_images_to_folder(src_folder, images_folder, set_name, food_label, images):\n",
    "    set_dir = os.path.join(images_folder, set_name)\n",
    "    if not os.path.exists(set_dir):\n",
    "        os.mkdir(set_dir)\n",
    "    \n",
    "    target_folder = os.path.join(set_dir, food_label)\n",
    "    if not os.path.exists(target_folder):\n",
    "        os.mkdir(target_folder)\n",
    "    for image in images:        \n",
    "        src = os.path.join(src_folder, image[0])\n",
    "        dst = os.path.join(target_folder, image[0])\n",
    "        copyfile(src, dst)\n",
    "\n",
    "        \n",
    "raw_label = '1'\n",
    "food_label = raw_label + '.' + labels.iloc[int(raw_label)-1][\"name\"]\n",
    "src_folder = os.path.join(raw_dataset, raw_label)\n",
    "copy_images_to_folder(src_folder, images_folder, 'train', food_label, X_train)\n",
    "copy_images_to_folder(src_folder, images_folder, 'valid', food_label, X_val)\n",
    "copy_images_to_folder(src_folder, images_folder, 'test', food_label, X_test)\n",
    "#copy_images_to_folder(raw_dataset, '1', images_folder, 'train', X_train)\n",
    "#print labels\n",
    "#print labels.iloc[2][\"name\"]    \n",
    "    \n",
    "\n",
    "# Make the code work for one label (rice)\n",
    "# Next step is to copy the images to 3 folders\n"
   ]
  },
  {
   "cell_type": "code",
   "execution_count": null,
   "metadata": {
    "collapsed": true,
    "deletable": true,
    "editable": true
   },
   "outputs": [],
   "source": []
  }
 ],
 "metadata": {
  "anaconda-cloud": {},
  "kernelspec": {
   "display_name": "Python [conda env:food-classifier]",
   "language": "python",
   "name": "conda-env-food-classifier-py"
  },
  "language_info": {
   "codemirror_mode": {
    "name": "ipython",
    "version": 3
   },
   "file_extension": ".py",
   "mimetype": "text/x-python",
   "name": "python",
   "nbconvert_exporter": "python",
   "pygments_lexer": "ipython3",
   "version": "3.5.3"
  }
 },
 "nbformat": 4,
 "nbformat_minor": 2
}
