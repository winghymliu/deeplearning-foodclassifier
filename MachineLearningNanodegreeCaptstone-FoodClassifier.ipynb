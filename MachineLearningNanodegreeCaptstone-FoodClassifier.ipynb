{
 "cells": [
  {
   "cell_type": "markdown",
   "metadata": {
    "deletable": true,
    "editable": true
   },
   "source": [
    "# Capstone Project - Food Classifier\n",
    "\n",
    "## Overview\n",
    "\n",
    "The aim of this Capstone Project is to use deep learning to classify images of food. The notebook will include all implementation stages of the project including, data processing, training and building the model and finally an analysis of the results. \n",
    "\n",
    "## Software Requirements\n",
    "\n",
    "The project requires an installation of Anaconda with Python 2. The main libraries use will be Keras with a Tensorflow backend, panda and numpy. \n",
    "\n",
    "## Data Processing\n",
    "\n",
    "The project uses the UECFOOD256 from an academic insitute in Japan, the dataset contains 31,651 images in 256 folders with each folder being a particular category of the food."
   ]
  },
  {
   "cell_type": "code",
   "execution_count": 51,
   "metadata": {
    "collapsed": false,
    "deletable": true,
    "editable": true
   },
   "outputs": [],
   "source": [
    "from os import listdir\n",
    "import os.path\n",
    "import pandas as pd\n",
    "from sklearn.datasets import load_files    \n",
    "from sklearn.model_selection import train_test_split\n",
    "import numpy as np\n",
    "from shutil import copyfile\n",
    "from sklearn.datasets import load_files       \n",
    "from keras.utils import np_utils\n",
    "\n",
    "raw_dataset = r'UECFOOD256'\n",
    "categories = r'labels.txt' \n",
    "images_folder = r'food-images'\n",
    "train_folder = os.path.join(images_folder, 'train')\n",
    "valid_folder = os.path.join(images_folder, 'valid')\n",
    "test_folder = os.path.join(images_folder, 'test')\n",
    "\n",
    "def create_folder(folder):\n",
    "    if not os.path.exists(folder):\n",
    "        os.mkdir(folder)\n",
    "        \n",
    "create_folder(images_folder)\n",
    "create_folder(train_folder)\n",
    "create_folder(valid_folder)\n",
    "create_folder(test_folder)\n",
    "\n",
    "labels = pd.read_csv(categories, sep=\",\", header=0)\n",
    "\n",
    "def get_label_from_raw(raw_label, labels):\n",
    "    return labels.iloc[int(raw_label)-1][\"name\"]"
   ]
  },
  {
   "cell_type": "markdown",
   "metadata": {},
   "source": [
    "### Cross validation\n",
    "\n",
    "Currently the images are all grouped together within their labeled folders and they need to be seperated into the training, validation and testing sets for each label. First the names of the files are loaded into a collection, then train_test_split is used to obtain the training and testing set. The method is called again to further split the training data into training and validation sets.\n",
    "\n",
    "A three folders are created: train, valid, test which each contain a subfolder with the correct label and the images from our cross validation split earlier. The methods are defined here:"
   ]
  },
  {
   "cell_type": "code",
   "execution_count": 52,
   "metadata": {
    "collapsed": false,
    "deletable": true,
    "editable": true
   },
   "outputs": [],
   "source": [
    "# Function to confirm the number of files per label\n",
    "def get_total_images_per_label(path):\n",
    "    total = 0\n",
    "    for item in listdir(path):\n",
    "        image_folder = os.path.join(path, item)\n",
    "        if os.path.isdir(image_folder):        \n",
    "            images = [file for file in os.listdir(image_folder) if file.endswith('.jpg')]\n",
    "            print('Folder ' + item + ' has ' + str(len(images)) + ' images')\n",
    "            total = total + len(images)\n",
    "    print('total files ' + str(total))\n",
    "\n",
    "def train_validate_test_split(path, raw_label, labels):\n",
    "    label = get_label_from_raw(raw_label, labels)\n",
    "    image_folder = os.path.join(path, raw_label)\n",
    "    files = [file for file in os.listdir(image_folder) if file.endswith('.jpg')]  \n",
    "\n",
    "    X = np.vstack(files)\n",
    "    y = np.vstack([label] * len(files))\n",
    "\n",
    "    X_train, X_test, y_train, y_test = train_test_split(X, y, test_size=0.1, random_state=42)\n",
    "    X_train, X_val, y_train, y_val = train_test_split(X_train, y_train, test_size=0.2, random_state=1)\n",
    "        \n",
    "    return X_train, X_val, X_test, y_train,  y_val, y_test\n",
    "\n",
    "def copy_images_to_folder(src_folder, set_folder, food_label, images):\n",
    "    target_folder = os.path.join(set_folder, food_label)\n",
    "    if not os.path.exists(target_folder):\n",
    "        os.mkdir(target_folder)\n",
    "    for image in images:        \n",
    "        src = os.path.join(src_folder, image[0])\n",
    "        dst = os.path.join(target_folder, image[0])\n",
    "        copyfile(src, dst)        "
   ]
  },
  {
   "cell_type": "markdown",
   "metadata": {},
   "source": [
    "The cross validation split is performed here:"
   ]
  },
  {
   "cell_type": "code",
   "execution_count": 54,
   "metadata": {
    "collapsed": false,
    "deletable": true,
    "editable": true
   },
   "outputs": [
    {
     "name": "stdout",
     "output_type": "stream",
     "text": [
      "446\n",
      "446\n",
      "112\n",
      "112\n",
      "62\n",
      "62\n"
     ]
    }
   ],
   "source": [
    "X_train, X_val, X_test, y_train,  y_val, y_test = train_validate_test_split(raw_dataset, '1', labels)    \n",
    "\n",
    "print(str(len(X_train)))\n",
    "print(str(len(y_train)))\n",
    "print(str(len(X_val)) )\n",
    "print(str(len(y_val)) )\n",
    "print(str(len(X_test)))\n",
    "print(str(len(y_test)))\n",
    "\n",
    "raw_label = '1'\n",
    "food_label = raw_label + '.' + get_label_from_raw(raw_label, labels)\n",
    "src_folder = os.path.join(raw_dataset, raw_label)\n",
    "copy_images_to_folder(src_folder, train_folder, food_label, X_train)\n",
    "copy_images_to_folder(src_folder, valid_folder, food_label, X_val)\n",
    "copy_images_to_folder(src_folder, test_folder, food_label, X_test)"
   ]
  },
  {
   "cell_type": "markdown",
   "metadata": {},
   "source": [
    "The data is now loaded:"
   ]
  },
  {
   "cell_type": "code",
   "execution_count": 50,
   "metadata": {
    "collapsed": true
   },
   "outputs": [],
   "source": [
    "# define function to load train, test, and validation datasets\n",
    "def load_dataset(path):\n",
    "    data = load_files(path)\n",
    "    files = np.array(data['filenames'])\n",
    "    targets = np_utils.to_categorical(np.array(data['target']), len(labels))\n",
    "    return files, targets\n",
    "\n",
    "# load train, test, and validation datasets\n",
    "train_files, train_targets = load_dataset(train_folder)\n",
    "valid_files, valid_targets = load_dataset(valid_folder)\n",
    "test_files, test_targets = load_dataset(test_folder)\n",
    "\n",
    "# print statistics about the dataset\n",
    "print('There are %d total food categories.' % len(dog_names))\n",
    "print('There are %s total food images.\\n' % len(np.hstack([train_files, valid_files, test_files])))\n",
    "print('There are %d training food images.' % len(train_files))\n",
    "print('There are %d validation food images.' % len(valid_files))\n",
    "print('There are %d test food images.'% len(test_files))"
   ]
  },
  {
   "cell_type": "markdown",
   "metadata": {},
   "source": [
    "### Image Resize\n",
    "\n",
    "The first step is to resize all the images in order to standardize the input dimensions for the convolutional neural network. "
   ]
  },
  {
   "cell_type": "code",
   "execution_count": null,
   "metadata": {
    "collapsed": true
   },
   "outputs": [],
   "source": []
  }
 ],
 "metadata": {
  "anaconda-cloud": {},
  "kernelspec": {
   "display_name": "Python [conda env:food-classifier]",
   "language": "python",
   "name": "conda-env-food-classifier-py"
  },
  "language_info": {
   "codemirror_mode": {
    "name": "ipython",
    "version": 3
   },
   "file_extension": ".py",
   "mimetype": "text/x-python",
   "name": "python",
   "nbconvert_exporter": "python",
   "pygments_lexer": "ipython3",
   "version": "3.5.3"
  }
 },
 "nbformat": 4,
 "nbformat_minor": 2
}
